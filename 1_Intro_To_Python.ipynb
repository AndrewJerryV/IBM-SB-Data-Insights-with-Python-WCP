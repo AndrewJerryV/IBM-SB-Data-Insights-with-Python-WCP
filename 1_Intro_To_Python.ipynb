{
 "cells": [
  {
   "cell_type": "markdown",
   "id": "22c8dbdd",
   "metadata": {},
   "source": [
    "# Assignment 2"
   ]
  },
  {
   "cell_type": "code",
   "execution_count": 4,
   "id": "6f34ad25",
   "metadata": {},
   "outputs": [],
   "source": [
    "import pandas as pd"
   ]
  },
  {
   "cell_type": "code",
   "execution_count": 5,
   "id": "c5831fe6",
   "metadata": {},
   "outputs": [],
   "source": [
    "df = pd.read_csv('cars.csv', encoding='latin-1')"
   ]
  },
  {
   "cell_type": "code",
   "execution_count": null,
   "id": "51be22e0",
   "metadata": {},
   "outputs": [],
   "source": [
    "df.head()"
   ]
  },
  {
   "cell_type": "code",
   "execution_count": null,
   "id": "f481302f",
   "metadata": {},
   "outputs": [],
   "source": [
    "rows, columns = df.shape\n",
    "print(f\"Number of rows: {rows}\")\n",
    "print(f\"Number of columns: {columns}\")"
   ]
  },
  {
   "cell_type": "markdown",
   "id": "fcf1a488",
   "metadata": {},
   "source": [
    "Sales: Unit sales (in thousands) at each location\n",
    "\n",
    "CompPrice: Price charged by competitor at each location\n",
    "\n",
    "Income: Community income level (in thousands of dollars)\n",
    "\n",
    "Advertising: Local advertising budget for company at each location (in thousands of dollars)\n",
    "\n",
    "Population: Population size in region (in thousands)\n",
    "\n",
    "Price: Price company charges for car seats at each site\n",
    "\n",
    "ShelveLoc: A factor with levels Bad, Good and Medium indicating the quality of the shelving location for the car seats at each site. <br>\n",
    "    - Bad: Poor shelving location (e.g., low visibility or accessibility). <br>\n",
    "    - Medium: Average shelving location. <br>\n",
    "    - Good: Prime shelving location (e.g., highly visible and easily accessible). <br>\n",
    "\n",
    "Age: Average age of the local population\n",
    "\n",
    "Education: Education level at each location\n",
    "\n",
    "Urban: A factor with levels No and Yes to indicate whether the store is in an urban or rural location\n",
    "\n",
    "US: A factor with levels No and Yes to indicate whether the store is in the US or not"
   ]
  },
  {
   "cell_type": "code",
   "execution_count": null,
   "id": "c3f8f883",
   "metadata": {},
   "outputs": [],
   "source": [
    "df.describe(include = \"all\")"
   ]
  },
  {
   "cell_type": "code",
   "execution_count": null,
   "id": "bcf18a0b",
   "metadata": {},
   "outputs": [],
   "source": [
    "mean = df.mean(numeric_only=True)\n",
    "median = df.median(numeric_only=True)\n",
    "std_dev = df.std(numeric_only=True)\n",
    "print(\"Mean:\\n\", mean)\n",
    "print(\"\\nMedian:\\n\", median)\n",
    "print(\"\\nStandard Deviation:\\n\", std_dev)"
   ]
  },
  {
   "cell_type": "code",
   "execution_count": null,
   "id": "f96a4a79",
   "metadata": {},
   "outputs": [],
   "source": [
    "percentiles = df.quantile([0.25, 0.75])\n",
    "print(\"25th Percentile:\\n\", percentiles.loc[0.25])\n",
    "print(\"\\n75th Percentile:\\n\", percentiles.loc[0.75])"
   ]
  },
  {
   "cell_type": "markdown",
   "id": "f13ebe9d",
   "metadata": {},
   "source": [
    "# Assignment 3"
   ]
  },
  {
   "cell_type": "code",
   "execution_count": 9,
   "id": "39b409ed",
   "metadata": {},
   "outputs": [],
   "source": [
    "import matplotlib.pyplot as plt\n",
    "import seaborn as sns\n"
   ]
  },
  {
   "cell_type": "code",
   "execution_count": null,
   "id": "78fc6425",
   "metadata": {},
   "outputs": [],
   "source": [
    "plt.figure(figsize=(8, 5))\n",
    "df['mpg'].hist(bins=10, color='blue', alpha=0.7)\n",
    "plt.title('Distribution of MPG')\n",
    "plt.xlabel('MPG')\n",
    "plt.ylabel('Frequency')\n",
    "plt.show()"
   ]
  },
  {
   "cell_type": "code",
   "execution_count": null,
   "id": "000ca58e",
   "metadata": {},
   "outputs": [],
   "source": [
    "plt.figure(figsize=(8, 5))\n",
    "sns.boxplot(x=df['hp'], color='green')\n",
    "plt.title('Boxplot of Horsepower')\n",
    "plt.show()"
   ]
  },
  {
   "cell_type": "code",
   "execution_count": null,
   "id": "2fee48e4",
   "metadata": {},
   "outputs": [],
   "source": [
    "selected_columns = ['mpg', 'hp', 'wt']\n",
    "sns.pairplot(df[selected_columns])\n",
    "plt.suptitle(\"Pairplot for Selected Features\", y=1.02)\n",
    "plt.show()"
   ]
  },
  {
   "cell_type": "code",
   "execution_count": null,
   "id": "e8709247",
   "metadata": {},
   "outputs": [],
   "source": [
    "plt.figure(figsize=(10, 8))\n",
    "correlation_matrix = df[selected_columns].corr()\n",
    "sns.heatmap(correlation_matrix, annot=True, cmap='coolwarm', fmt='.2f')\n",
    "plt.title(\"Correlation Heatmap\")\n",
    "plt.show()"
   ]
  },
  {
   "cell_type": "markdown",
   "id": "a4103698",
   "metadata": {},
   "source": [
    "# Assignment 3-2"
   ]
  },
  {
   "cell_type": "code",
   "execution_count": 12,
   "id": "dcfd20d6",
   "metadata": {},
   "outputs": [
    {
     "data": {
      "text/html": [
       "<div>\n",
       "<style scoped>\n",
       "    .dataframe tbody tr th:only-of-type {\n",
       "        vertical-align: middle;\n",
       "    }\n",
       "\n",
       "    .dataframe tbody tr th {\n",
       "        vertical-align: top;\n",
       "    }\n",
       "\n",
       "    .dataframe thead th {\n",
       "        text-align: right;\n",
       "    }\n",
       "</style>\n",
       "<table border=\"1\" class=\"dataframe\">\n",
       "  <thead>\n",
       "    <tr style=\"text-align: right;\">\n",
       "      <th></th>\n",
       "      <th>Model</th>\n",
       "      <th>mpg</th>\n",
       "      <th>cyl</th>\n",
       "      <th>disp</th>\n",
       "      <th>hp</th>\n",
       "      <th>drat</th>\n",
       "      <th>wt</th>\n",
       "      <th>qsec</th>\n",
       "      <th>vs</th>\n",
       "      <th>am</th>\n",
       "      <th>gear</th>\n",
       "      <th>carb</th>\n",
       "    </tr>\n",
       "  </thead>\n",
       "  <tbody>\n",
       "    <tr>\n",
       "      <th>0</th>\n",
       "      <td>Mazda RX4</td>\n",
       "      <td>21.0</td>\n",
       "      <td>6</td>\n",
       "      <td>160.0</td>\n",
       "      <td>110</td>\n",
       "      <td>3.90</td>\n",
       "      <td>2.620</td>\n",
       "      <td>16.46</td>\n",
       "      <td>0</td>\n",
       "      <td>1</td>\n",
       "      <td>4</td>\n",
       "      <td>4</td>\n",
       "    </tr>\n",
       "    <tr>\n",
       "      <th>1</th>\n",
       "      <td>Mazda RX4 Wag</td>\n",
       "      <td>21.0</td>\n",
       "      <td>6</td>\n",
       "      <td>160.0</td>\n",
       "      <td>110</td>\n",
       "      <td>3.90</td>\n",
       "      <td>2.875</td>\n",
       "      <td>17.02</td>\n",
       "      <td>0</td>\n",
       "      <td>1</td>\n",
       "      <td>4</td>\n",
       "      <td>4</td>\n",
       "    </tr>\n",
       "    <tr>\n",
       "      <th>2</th>\n",
       "      <td>Datsun 710</td>\n",
       "      <td>22.8</td>\n",
       "      <td>4</td>\n",
       "      <td>108.0</td>\n",
       "      <td>93</td>\n",
       "      <td>3.85</td>\n",
       "      <td>2.320</td>\n",
       "      <td>18.61</td>\n",
       "      <td>1</td>\n",
       "      <td>1</td>\n",
       "      <td>4</td>\n",
       "      <td>1</td>\n",
       "    </tr>\n",
       "    <tr>\n",
       "      <th>3</th>\n",
       "      <td>Hornet 4 Drive</td>\n",
       "      <td>21.4</td>\n",
       "      <td>6</td>\n",
       "      <td>258.0</td>\n",
       "      <td>110</td>\n",
       "      <td>3.08</td>\n",
       "      <td>3.215</td>\n",
       "      <td>19.44</td>\n",
       "      <td>1</td>\n",
       "      <td>0</td>\n",
       "      <td>3</td>\n",
       "      <td>1</td>\n",
       "    </tr>\n",
       "    <tr>\n",
       "      <th>4</th>\n",
       "      <td>Hornet Sportabout</td>\n",
       "      <td>18.7</td>\n",
       "      <td>8</td>\n",
       "      <td>360.0</td>\n",
       "      <td>175</td>\n",
       "      <td>3.15</td>\n",
       "      <td>3.440</td>\n",
       "      <td>17.02</td>\n",
       "      <td>0</td>\n",
       "      <td>0</td>\n",
       "      <td>3</td>\n",
       "      <td>2</td>\n",
       "    </tr>\n",
       "  </tbody>\n",
       "</table>\n",
       "</div>"
      ],
      "text/plain": [
       "               Model   mpg  cyl   disp   hp  drat     wt   qsec  vs  am  gear  \\\n",
       "0          Mazda RX4  21.0    6  160.0  110  3.90  2.620  16.46   0   1     4   \n",
       "1      Mazda RX4 Wag  21.0    6  160.0  110  3.90  2.875  17.02   0   1     4   \n",
       "2         Datsun 710  22.8    4  108.0   93  3.85  2.320  18.61   1   1     4   \n",
       "3     Hornet 4 Drive  21.4    6  258.0  110  3.08  3.215  19.44   1   0     3   \n",
       "4  Hornet Sportabout  18.7    8  360.0  175  3.15  3.440  17.02   0   0     3   \n",
       "\n",
       "   carb  \n",
       "0     4  \n",
       "1     4  \n",
       "2     1  \n",
       "3     1  \n",
       "4     2  "
      ]
     },
     "execution_count": 12,
     "metadata": {},
     "output_type": "execute_result"
    }
   ],
   "source": [
    "import seaborn as sns\n",
    "df.head()"
   ]
  },
  {
   "cell_type": "code",
   "execution_count": null,
   "id": "eb83624e",
   "metadata": {},
   "outputs": [],
   "source": [
    "sns.displot(df['mpg'], bins=10, palette='Set2')"
   ]
  },
  {
   "cell_type": "code",
   "execution_count": null,
   "id": "4819c75f",
   "metadata": {},
   "outputs": [],
   "source": [
    "sns.boxplot(y='mpg', data=df,palette='Set2')"
   ]
  },
  {
   "cell_type": "code",
   "execution_count": null,
   "id": "5ce1b75c",
   "metadata": {},
   "outputs": [],
   "source": [
    "sns.countplot(x='cyl', data=df, palette='Set2')"
   ]
  },
  {
   "cell_type": "code",
   "execution_count": 13,
   "id": "7f823c36",
   "metadata": {},
   "outputs": [
    {
     "data": {
      "text/plain": [
       "<seaborn.axisgrid.JointGrid at 0x1564f27df10>"
      ]
     },
     "execution_count": 13,
     "metadata": {},
     "output_type": "execute_result"
    },
    {
     "data": {
      "image/png": "[encoded data removed]",
      "text/plain": [
       "<Figure size 600x600 with 3 Axes>"
      ]
     },
     "metadata": {},
     "output_type": "display_data"
    }
   ],
   "source": [
    "sns.jointplot(x='wt', y='hp', data=df)"
   ]
  },
  {
   "cell_type": "code",
   "execution_count": null,
   "id": "df38abfd",
   "metadata": {},
   "outputs": [],
   "source": [
    "sns.lmplot(x='hp', y='mpg', data=df, fit_reg=True)"
   ]
  },
  {
   "cell_type": "code",
   "execution_count": null,
   "id": "49b25b59",
   "metadata": {},
   "outputs": [],
   "source": [
    "sns.countplot(x='cyl', data=df, palette='Set2', hue='gear')"
   ]
  },
  {
   "cell_type": "code",
   "execution_count": null,
   "id": "b243ede4",
   "metadata": {},
   "outputs": [],
   "source": [
    "sns.boxplot(x='cyl', y='mpg', data=df, palette='Set2')"
   ]
  }
 ],
 "metadata": {
  "kernelspec": {
   "display_name": "Python 3",
   "language": "python",
   "name": "python3"
  },
  "language_info": {
   "codemirror_mode": {
    "name": "ipython",
    "version": 3
   },
   "file_extension": ".py",
   "mimetype": "text/x-python",
   "name": "python",
   "nbconvert_exporter": "python",
   "pygments_lexer": "ipython3",
   "version": "3.9.13"
  }
 },
 "nbformat": 4,
 "nbformat_minor": 5
}

{
 "cells": [
  {
   "cell_type": "markdown",
   "id": "22c8dbdd",
   "metadata": {},
   "source": [
    "# Assignment 2"
   ]
  },
  {
   "cell_type": "code",
   "execution_count": 4,
   "id": "6f34ad25",
   "metadata": {},
   "outputs": [],
   "source": [
    "import pandas as pd"
   ]
  },
  {
   "cell_type": "code",
   "execution_count": 5,
   "id": "c5831fe6",
   "metadata": {},
   "outputs": [],
   "source": [
    "df = pd.read_csv('cars.csv', encoding='latin-1')"
   ]
  },
  {
   "cell_type": "code",
   "execution_count": null,
   "id": "51be22e0",
   "metadata": {},
   "outputs": [],
   "source": [
    "df.head()"
   ]
  },
  {
   "cell_type": "code",
   "execution_count": null,
   "id": "f481302f",
   "metadata": {},
   "outputs": [],
   "source": [
    "rows, columns = df.shape\n",
    "print(f\"Number of rows: {rows}\")\n",
    "print(f\"Number of columns: {columns}\")"
   ]
  },
  {
   "cell_type": "markdown",
   "id": "fcf1a488",
   "metadata": {},
   "source": [
    "Sales: Unit sales (in thousands) at each location\n",
    "\n",
    "CompPrice: Price charged by competitor at each location\n",
    "\n",
    "Income: Community income level (in thousands of dollars)\n",
    "\n",
    "Advertising: Local advertising budget for company at each location (in thousands of dollars)\n",
    "\n",
    "Population: Population size in region (in thousands)\n",
    "\n",
    "Price: Price company charges for car seats at each site\n",
    "\n",
    "ShelveLoc: A factor with levels Bad, Good and Medium indicating the quality of the shelving location for the car seats at each site. <br>\n",
    "    - Bad: Poor shelving location (e.g., low visibility or accessibility). <br>\n",
    "    - Medium: Average shelving location. <br>\n",
    "    - Good: Prime shelving location (e.g., highly visible and easily accessible). <br>\n",
    "\n",
    "Age: Average age of the local population\n",
    "\n",
    "Education: Education level at each location\n",
    "\n",
    "Urban: A factor with levels No and Yes to indicate whether the store is in an urban or rural location\n",
    "\n",
    "US: A factor with levels No and Yes to indicate whether the store is in the US or not"
   ]
  },
  {
   "cell_type": "code",
   "execution_count": null,
   "id": "c3f8f883",
   "metadata": {},
   "outputs": [],
   "source": [
    "df.describe(include = \"all\")"
   ]
  },
  {
   "cell_type": "code",
   "execution_count": null,
   "id": "bcf18a0b",
   "metadata": {},
   "outputs": [],
   "source": [
    "mean = df.mean(numeric_only=True)\n",
    "median = df.median(numeric_only=True)\n",
    "std_dev = df.std(numeric_only=True)\n",
    "print(\"Mean:\\n\", mean)\n",
    "print(\"\\nMedian:\\n\", median)\n",
    "print(\"\\nStandard Deviation:\\n\", std_dev)"
   ]
  },
  {
   "cell_type": "code",
   "execution_count": null,
   "id": "f96a4a79",
   "metadata": {},
   "outputs": [],
   "source": [
    "percentiles = df.quantile([0.25, 0.75])\n",
    "print(\"25th Percentile:\\n\", percentiles.loc[0.25])\n",
    "print(\"\\n75th Percentile:\\n\", percentiles.loc[0.75])"
   ]
  },
  {
   "cell_type": "markdown",
   "id": "f13ebe9d",
   "metadata": {},
   "source": [
    "# Assignment 3"
   ]
  },
  {
   "cell_type": "code",
   "execution_count": 9,
   "id": "39b409ed",
   "metadata": {},
   "outputs": [],
   "source": [
    "import matplotlib.pyplot as plt\n",
    "import seaborn as sns\n"
   ]
  },
  {
   "cell_type": "code",
   "execution_count": null,
   "id": "78fc6425",
   "metadata": {},
   "outputs": [],
   "source": [
    "plt.figure(figsize=(8, 5))\n",
    "df['mpg'].hist(bins=10, color='blue', alpha=0.7)\n",
    "plt.title('Distribution of MPG')\n",
    "plt.xlabel('MPG')\n",
    "plt.ylabel('Frequency')\n",
    "plt.show()"
   ]
  },
  {
   "cell_type": "code",
   "execution_count": null,
   "id": "000ca58e",
   "metadata": {},
   "outputs": [],
   "source": [
    "plt.figure(figsize=(8, 5))\n",
    "sns.boxplot(x=df['hp'], color='green')\n",
    "plt.title('Boxplot of Horsepower')\n",
    "plt.show()"
   ]
  },
  {
   "cell_type": "code",
   "execution_count": null,
   "id": "2fee48e4",
   "metadata": {},
   "outputs": [],
   "source": [
    "selected_columns = ['mpg', 'hp', 'wt']\n",
    "sns.pairplot(df[selected_columns])\n",
    "plt.suptitle(\"Pairplot for Selected Features\", y=1.02)\n",
    "plt.show()"
   ]
  },
  {
   "cell_type": "code",
   "execution_count": null,
   "id": "e8709247",
   "metadata": {},
   "outputs": [],
   "source": [
    "plt.figure(figsize=(10, 8))\n",
    "correlation_matrix = df[selected_columns].corr()\n",
    "sns.heatmap(correlation_matrix, annot=True, cmap='coolwarm', fmt='.2f')\n",
    "plt.title(\"Correlation Heatmap\")\n",
    "plt.show()"
   ]
  },
  {
   "cell_type": "markdown",
   "id": "a4103698",
   "metadata": {},
   "source": [
    "# Assignment 3-2"
   ]
  },
  {
   "cell_type": "code",
   "execution_count": null,
   "id": "dcfd20d6",
   "metadata": {},
   "outputs": [],
   "source": [
    "import seaborn as sns\n",
    "df.head()"
   ]
  },
  {
   "cell_type": "code",
   "execution_count": null,
   "id": "eb83624e",
   "metadata": {},
   "outputs": [],
   "source": [
    "sns.displot(df['mpg'], bins=10, palette='Set2')"
   ]
  },
  {
   "cell_type": "code",
   "execution_count": null,
   "id": "4819c75f",
   "metadata": {},
   "outputs": [],
   "source": [
    "sns.boxplot(y='mpg', data=df,palette='Set2')"
   ]
  },
  {
   "cell_type": "code",
   "execution_count": null,
   "id": "5ce1b75c",
   "metadata": {},
   "outputs": [],
   "source": [
    "sns.countplot(x='cyl', data=df, palette='Set2')"
   ]
  },
  {
   "cell_type": "code",
   "execution_count": null,
   "id": "7f823c36",
   "metadata": {},
   "outputs": [],
   "source": [
    "sns.jointplot(x='wt', y='hp', data=df)"
   ]
  },
  {
   "cell_type": "code",
   "execution_count": null,
   "id": "df38abfd",
   "metadata": {},
   "outputs": [],
   "source": [
    "sns.lmplot(x='hp', y='mpg', data=df, fit_reg=True)"
   ]
  },
  {
   "cell_type": "code",
   "execution_count": null,
   "id": "49b25b59",
   "metadata": {},
   "outputs": [],
   "source": [
    "sns.countplot(x='cyl', data=df, palette='Set2', hue='gear')"
   ]
  },
  {
   "cell_type": "code",
   "execution_count": null,
   "id": "b243ede4",
   "metadata": {},
   "outputs": [],
   "source": [
    "sns.boxplot(x='cyl', y='mpg', data=df, palette='Set2')"
   ]
  }
 ],
 "metadata": {
  "kernelspec": {
   "display_name": "Python 3",
   "language": "python",
   "name": "python3"
  },
  "language_info": {
   "codemirror_mode": {
    "name": "ipython",
    "version": 3
   },
   "file_extension": ".py",
   "mimetype": "text/x-python",
   "name": "python",
   "nbconvert_exporter": "python",
   "pygments_lexer": "ipython3",
   "version": "3.9.13"
  }
 },
 "nbformat": 4,
 "nbformat_minor": 5
}
